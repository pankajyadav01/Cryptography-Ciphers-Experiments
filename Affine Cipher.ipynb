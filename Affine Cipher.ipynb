{
 "cells": [
  {
   "cell_type": "code",
   "execution_count": 8,
   "metadata": {},
   "outputs": [
    {
     "name": "stdout",
     "output_type": "stream",
     "text": [
      "Enter a Plain Text : hello\n",
      "Enter a Key1 value : 5\n",
      "Enter a Key2 value : 8\n",
      "\n",
      "Plain Text : hello\n",
      "Key1 : 5\n",
      "Key2 : 8\n",
      "Cipher Text: RCLLA\n",
      "Plain Text(Decryption): hello\n"
     ]
    }
   ],
   "source": [
    "def inverse(a):\n",
    "    a = a % 26;\n",
    "    for x in range(1, 26) :\n",
    "        if ((a * x) % 26 == 1) :\n",
    "            return x\n",
    "    return -1\n",
    "\n",
    "def encrypt(text, a, b):\n",
    "    result = \"\"; \n",
    "    for i in range(len(text)):\n",
    "        char = text[i]\n",
    "        if (char.isupper()):\n",
    "            result +=  chr((((a * (ord(char)-65) ) + b) % 26) + 65)\n",
    "        else:\n",
    "            result +=  chr((((a * (ord(char)-97) ) + b) % 26) + 97)    \n",
    "    return result\n",
    "\n",
    "def decrypt(text, a, b):\n",
    "    b= -b\n",
    "    a= inverse(a)\n",
    "    if a== -1:\n",
    "        return \"No Inverse Present\"\n",
    "    result = \"\"; \n",
    "    for i in range(len(text)):\n",
    "        char = text[i]\n",
    "        if (char.isupper()):\n",
    "            result +=  chr(((((ord(char)-65) + b ) * a) % 26) + 65)\n",
    "        else:\n",
    "            result +=  chr(((((ord(char)-97) + b ) * a) % 26) + 97)    \n",
    "    return result\n",
    "\n",
    "\n",
    "text = input(\"Enter a Plain Text : \")\n",
    "text = text.replace(\" \", \"\")\n",
    "s1 = int(input(\"Enter a Key1 value : \"))\n",
    "s2 = int(input(\"Enter a Key2 value : \"))\n",
    "cipher = encrypt(text,s1,s2).upper()\n",
    "print()\n",
    "print (\"Plain Text : \" + text.lower())\n",
    "print (\"Key1 : \" + str(s1))\n",
    "print (\"Key2 : \" + str(s2))\n",
    "print (\"Cipher Text: \" + cipher)\n",
    "print (\"Plain Text(Decryption): \" + decrypt(cipher,s1,s2).lower())"
   ]
  },
  {
   "cell_type": "code",
   "execution_count": null,
   "metadata": {
    "collapsed": true
   },
   "outputs": [],
   "source": []
  },
  {
   "cell_type": "code",
   "execution_count": null,
   "metadata": {
    "collapsed": true
   },
   "outputs": [],
   "source": []
  }
 ],
 "metadata": {
  "kernelspec": {
   "display_name": "Python 3",
   "language": "python",
   "name": "python3"
  },
  "language_info": {
   "codemirror_mode": {
    "name": "ipython",
    "version": 3
   },
   "file_extension": ".py",
   "mimetype": "text/x-python",
   "name": "python",
   "nbconvert_exporter": "python",
   "pygments_lexer": "ipython3",
   "version": "3.6.3"
  }
 },
 "nbformat": 4,
 "nbformat_minor": 2
}
