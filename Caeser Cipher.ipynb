{
 "cells": [
  {
   "cell_type": "code",
   "execution_count": 16,
   "metadata": {},
   "outputs": [
    {
     "name": "stdout",
     "output_type": "stream",
     "text": [
      "Enter a Plain Text : Pankaj adav\n",
      "Enter a Key value : 3\n",
      "\n",
      "Plain Text : pankajadav\n",
      "Key : 3\n",
      "Cipher Text: SDQNDMDGDY\n",
      "Plain Text(Decryption): pankajadav\n"
     ]
    }
   ],
   "source": [
    "def crypt(text,s,n):\n",
    "    result = \"\"\n",
    "    if n==0:\n",
    "        s= -s\n",
    "    for i in range(len(text)):\n",
    "        char = text[i]\n",
    "        if (char.isupper()):\n",
    "            result += chr((ord(char) + s-65) % 26 + 65)\n",
    "        else:\n",
    "            result += chr((ord(char) + s - 97) % 26 + 97)\n",
    "    return result\n",
    "\n",
    "text = input(\"Enter a Plain Text : \")\n",
    "text = text.replace(\" \", \"\")\n",
    "s = int(input(\"Enter a Key value : \"))\n",
    "cipher = crypt(text,s,1).upper()\n",
    "print()\n",
    "print (\"Plain Text : \" + text.lower())\n",
    "print (\"Key : \" + str(s))\n",
    "print (\"Cipher Text: \" + cipher)\n",
    "print (\"Plain Text(Decryption): \" + crypt(cipher,s,0).lower())"
   ]
  },
  {
   "cell_type": "code",
   "execution_count": null,
   "metadata": {
    "collapsed": true
   },
   "outputs": [],
   "source": []
  }
 ],
 "metadata": {
  "kernelspec": {
   "display_name": "Python 3",
   "language": "python",
   "name": "python3"
  },
  "language_info": {
   "codemirror_mode": {
    "name": "ipython",
    "version": 3
   },
   "file_extension": ".py",
   "mimetype": "text/x-python",
   "name": "python",
   "nbconvert_exporter": "python",
   "pygments_lexer": "ipython3",
   "version": "3.6.3"
  }
 },
 "nbformat": 4,
 "nbformat_minor": 2
}
