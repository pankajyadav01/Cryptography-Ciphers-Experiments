{
 "cells": [
  {
   "cell_type": "code",
   "execution_count": 13,
   "metadata": {},
   "outputs": [
    {
     "name": "stdout",
     "output_type": "stream",
     "text": [
      "enter modulo: 3\n",
      "\n",
      "Addition table \n",
      "\n",
      "[['0', '1', '10', '11', '100', '101', '110', '111'], ['1', '10', '11', '100', '101', '110', '111', '0'], ['10', '11', '100', '101', '110', '111', '0', '1'], ['11', '100', '101', '110', '111', '0', '1', '10'], ['100', '101', '110', '111', '0', '1', '10', '11'], ['101', '110', '111', '0', '1', '10', '11', '100'], ['110', '111', '0', '1', '10', '11', '100', '101'], ['111', '0', '1', '10', '11', '100', '101', '110']]\n",
      "\n",
      "Multiplication table \n",
      "\n",
      "[['0', '0', '0', '0', '0', '0', '0', '0'], ['0', '1', '10', '11', '100', '101', '110', '111'], ['0', '10', '100', '110', '0', '10', '100', '110'], ['0', '11', '110', '1', '100', '111', '10', '101'], ['0', '100', '0', '100', '0', '100', '0', '100'], ['0', '101', '10', '111', '100', '1', '110', '11'], ['0', '110', '100', '10', '0', '110', '100', '10'], ['0', '111', '110', '101', '100', '11', '10', '1']]\n"
     ]
    }
   ],
   "source": [
    "def gf(m,op):\n",
    "    matrix=[]\n",
    "    n=2**m\n",
    "    for i in range(n):\n",
    "        matrix.append([0]*n)\n",
    "    l=m-1\n",
    "#     l=len(bin(n)[2:])-1\n",
    "#     m=int('1011',2)\n",
    "    for i in range(n):\n",
    "        for j in range(n):\n",
    "            a=eval(str(i)+op+str(j))\n",
    "            b=int(a)\n",
    "            c=b%n\n",
    "            d=bin(c)[2:]\n",
    "            matrix[i][j]=d\n",
    "    return matrix\n",
    "\n",
    "n=int(input(\"enter modulo: \"))\n",
    "print(\"\\nAddition table \\n\")\n",
    "print(gf(n,'+'))\n",
    "print(\"\\nMultiplication table \\n\")\n",
    "print(gf(n,'*'))"
   ]
  },
  {
   "cell_type": "code",
   "execution_count": null,
   "metadata": {
    "collapsed": true
   },
   "outputs": [],
   "source": []
  }
 ],
 "metadata": {
  "kernelspec": {
   "display_name": "Python 3",
   "language": "python",
   "name": "python3"
  },
  "language_info": {
   "codemirror_mode": {
    "name": "ipython",
    "version": 3
   },
   "file_extension": ".py",
   "mimetype": "text/x-python",
   "name": "python",
   "nbconvert_exporter": "python",
   "pygments_lexer": "ipython3",
   "version": "3.6.3"
  }
 },
 "nbformat": 4,
 "nbformat_minor": 2
}
