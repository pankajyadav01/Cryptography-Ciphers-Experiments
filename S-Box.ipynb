{
 "cells": [
  {
   "cell_type": "code",
   "execution_count": 20,
   "metadata": {},
   "outputs": [
    {
     "name": "stdout",
     "output_type": "stream",
     "text": [
      "Enter an Input Matrix\n",
      "Enter Element 1 (0-256)1\n",
      "Enter Element 2 (0-256)2\n",
      "Enter Element 3 (0-256)3\n",
      "Enter Element 4 (0-256)4\n",
      "Enter Element 5 (0-256)5\n",
      "Enter Element 6 (0-256)6\n",
      "Enter Element 7 (0-256)7\n",
      "Enter Element 8 (0-256)8\n",
      "Enter Element 9 (0-256)9\n",
      "Enter Element 10 (0-256)0\n",
      "Enter Element 11 (0-256)12\n",
      "Enter Element 12 (0-256)111\n",
      "Enter Element 13 (0-256)12\n",
      "Enter Element 14 (0-256)34\n",
      "Enter Element 15 (0-256)23\n",
      "Enter Element 16 (0-256)45\n",
      "Input Matrix :\n",
      "\n",
      "['0x1', '0x2', '0x3', '0x4']\n",
      "\n",
      "['0x5', '0x6', '0x7', '0x8']\n",
      "\n",
      "['0x9', '0x0', '0xc', '0x6f']\n",
      "\n",
      "['0xc', '0x22', '0x17', '0x2d']\n",
      "\n",
      "Output Matrix :\n",
      "\n",
      "['D', 4, 1, 'A']\n",
      "\n",
      "[8, 'B', 5, 6]\n",
      "\n",
      "['C', 9, 1, 'F']\n",
      "\n",
      "[1, 6, 'E', 'E']\n",
      "\n"
     ]
    }
   ],
   "source": [
    "s=[[9,4,'A','B'],\n",
    "  ['D',1,8,5],\n",
    "  [6,2,1,0],\n",
    "  ['C','E','F',7]]\n",
    "x=[]\n",
    "y=[]\n",
    "n=1\n",
    "def conv(a):\n",
    "    z=str(a)\n",
    "    return (s[int(z[0]+z[3],2)][int(z[1]+z[2],2)])\n",
    "    \n",
    "print(\"Enter an Input Matrix\")\n",
    "for i in range(4):\n",
    "    x.append([])\n",
    "    y.append([])\n",
    "    for j in range(4):\n",
    "        a=int(input(\"Enter Element \"+str(n)))\n",
    "        n=n+1\n",
    "        if(a<0 or a>16):\n",
    "            print(\"invalid Input\")\n",
    "            break\n",
    "        else:\n",
    "            x[i].append(hex(a))\n",
    "            y[i].append(conv(bin(a)[2:].rjust(4,'0')))\n",
    "print(\"Input Matrix :\\n\")    \n",
    "for row in x:\n",
    "    print(row)\n",
    "    print()\n",
    "print(\"Output Matrix :\\n\")\n",
    "for row in y:\n",
    "    print(row)\n",
    "    print()"
   ]
  },
  {
   "cell_type": "markdown",
   "metadata": {},
   "source": [
    "## 3## "
   ]
  }
 ],
 "metadata": {
  "kernelspec": {
   "display_name": "Python 3",
   "language": "python",
   "name": "python3"
  },
  "language_info": {
   "codemirror_mode": {
    "name": "ipython",
    "version": 3
   },
   "file_extension": ".py",
   "mimetype": "text/x-python",
   "name": "python",
   "nbconvert_exporter": "python",
   "pygments_lexer": "ipython3",
   "version": "3.6.3"
  }
 },
 "nbformat": 4,
 "nbformat_minor": 2
}
